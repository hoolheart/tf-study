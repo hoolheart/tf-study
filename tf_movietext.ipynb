{
 "cells": [
  {
   "cell_type": "code",
   "execution_count": 1,
   "metadata": {},
   "outputs": [
    {
     "name": "stdout",
     "output_type": "stream",
     "text": [
      "Tensorflow version: 2.0.0\n",
      "Enable multiple instances of OpenMP on macOS\n"
     ]
    }
   ],
   "source": [
    "import tensorflow as tf\n",
    "tf.keras.backend.clear_session()\n",
    "print('Tensorflow version: %s' % str(tf.__version__))\n",
    "\n",
    "import sys\n",
    "import os\n",
    "if sys.platform.startswith('darwin'):\n",
    "    print('Enable multiple instances of OpenMP on macOS')\n",
    "    os.environ['KMP_DUPLICATE_LIB_OK']='True'\n",
    "    \n",
    "%matplotlib inline\n",
    "import matplotlib.pyplot as plt\n",
    "import numpy as np"
   ]
  },
  {
   "cell_type": "code",
   "execution_count": 2,
   "metadata": {},
   "outputs": [
    {
     "name": "stdout",
     "output_type": "stream",
     "text": [
      "Prepare movie text dataset\n"
     ]
    },
    {
     "name": "stderr",
     "output_type": "stream",
     "text": [
      "/Users/hzhou/anaconda3/lib/python3.7/site-packages/tensorflow_core/python/keras/datasets/imdb.py:129: VisibleDeprecationWarning: Creating an ndarray from ragged nested sequences (which is a list-or-tuple of lists-or-tuples-or ndarrays with different lengths or shapes) is deprecated. If you meant to do this, you must specify 'dtype=object' when creating the ndarray\n",
      "  x_train, y_train = np.array(xs[:idx]), np.array(labels[:idx])\n"
     ]
    },
    {
     "name": "stdout",
     "output_type": "stream",
     "text": [
      "shape of training data is (25000,)\n"
     ]
    },
    {
     "name": "stderr",
     "output_type": "stream",
     "text": [
      "/Users/hzhou/anaconda3/lib/python3.7/site-packages/tensorflow_core/python/keras/datasets/imdb.py:130: VisibleDeprecationWarning: Creating an ndarray from ragged nested sequences (which is a list-or-tuple of lists-or-tuples-or ndarrays with different lengths or shapes) is deprecated. If you meant to do this, you must specify 'dtype=object' when creating the ndarray\n",
      "  x_test, y_test = np.array(xs[idx:]), np.array(labels[idx:])\n"
     ]
    }
   ],
   "source": [
    "print('Prepare movie text dataset')\n",
    "imdb = tf.keras.datasets.imdb\n",
    "(train_data, train_labels), (test_data, test_labels) = imdb.load_data(num_words=10000)\n",
    "print('shape of training data is %s' % str(train_data.shape))"
   ]
  },
  {
   "cell_type": "code",
   "execution_count": 3,
   "metadata": {},
   "outputs": [
    {
     "name": "stdout",
     "output_type": "stream",
     "text": [
      "Prepare word mapping\n"
     ]
    }
   ],
   "source": [
    "print('Prepare word mapping')\n",
    "word_index = imdb.get_word_index() # download mapping\n",
    "\n",
    "word_index = {k:(v+3) for k,v in word_index.items()} # preserve first 3 index\n",
    "word_index[\"<PAD>\"] = 0\n",
    "word_index[\"<START>\"] = 1\n",
    "word_index[\"<UNK>\"] = 2  # unknown\n",
    "word_index[\"<UNUSED>\"] = 3\n",
    "\n",
    "reverse_word_index = dict([(value, key) for (key, value) in word_index.items()]) # get value-key mapping\n",
    "\n",
    "def decode_review(text): # define decoding function\n",
    "    return ' '.join([reverse_word_index.get(i, '?') for i in text])\n"
   ]
  },
  {
   "cell_type": "code",
   "execution_count": 4,
   "metadata": {},
   "outputs": [
    {
     "name": "stdout",
     "output_type": "stream",
     "text": [
      "The 1th comment: <START> this film was just brilliant casting location scenery story direction everyone's really suited the part they played and you could just imagine being there robert <UNK> is an amazing actor and now the same being director <UNK> father came from the same scottish island as myself so i loved the fact there was a real connection with this film the witty remarks throughout the film were great it was just brilliant so much that i bought the film as soon as it was released for <UNK> and would recommend it to everyone to watch and the fly fishing was amazing really cried at the end it was so sad and you know what they say if you cry at a film it must have been good and this definitely was also <UNK> to the two little boy's that played the <UNK> of norman and paul they were just brilliant children are often left out of the <UNK> list i think because the stars that play them all grown up are such a big profile for the whole film but these children are amazing and should be praised for what they have done don't you think the whole story was so lovely because it was true and was someone's life after all that was shared with us all\n",
      "\n",
      "The 2th comment: <START> big hair big boobs bad music and a giant safety pin these are the words to best describe this terrible movie i love cheesy horror movies and i've seen hundreds but this had got to be on of the worst ever made the plot is paper thin and ridiculous the acting is an abomination the script is completely laughable the best is the end showdown with the cop and how he worked out who the killer is it's just so damn terribly written the clothes are sickening and funny in equal <UNK> the hair is big lots of boobs <UNK> men wear those cut <UNK> shirts that show off their <UNK> sickening that men actually wore them and the music is just <UNK> trash that plays over and over again in almost every scene there is trashy music boobs and <UNK> taking away bodies and the gym still doesn't close for <UNK> all joking aside this is a truly bad film whose only charm is to look back on the disaster that was the 80's and have a good old laugh at how bad everything was back then\n",
      "\n",
      "The 3th comment: <START> this has to be one of the worst films of the 1990s when my friends i were watching this film being the target audience it was aimed at we just sat watched the first half an hour with our jaws touching the floor at how bad it really was the rest of the time everyone else in the theatre just started talking to each other leaving or generally crying into their popcorn that they actually paid money they had <UNK> working to watch this feeble excuse for a film it must have looked like a great idea on paper but on film it looks like no one in the film has a clue what is going on crap acting crap costumes i can't get across how <UNK> this is to watch save yourself an hour a bit of your life\n",
      "\n",
      "The 4th comment: <START> the <UNK> <UNK> at storytelling the traditional sort many years after the event i can still see in my <UNK> eye an elderly lady my friend's mother retelling the battle of <UNK> she makes the characters come alive her passion is that of an eye witness one to the events on the <UNK> heath a mile or so from where she lives br br of course it happened many years before she was born but you wouldn't guess from the way she tells it the same story is told in bars the length and <UNK> of scotland as i discussed it with a friend one night in <UNK> a local cut in to give his version the discussion continued to closing time br br stories passed down like this become part of our being who doesn't remember the stories our parents told us when we were children they become our invisible world and as we grow older they maybe still serve as inspiration or as an emotional <UNK> fact and fiction blend with <UNK> role models warning stories <UNK> magic and mystery br br my name is <UNK> like my grandfather and his grandfather before him our protagonist introduces himself to us and also introduces the story that stretches back through generations it produces stories within stories stories that evoke the <UNK> wonder of scotland its rugged mountains <UNK> in <UNK> the stuff of legend yet <UNK> is <UNK> in reality this is what gives it its special charm it has a rough beauty and authenticity <UNK> with some of the finest <UNK> singing you will ever hear br br <UNK> <UNK> visits his grandfather in hospital shortly before his death he burns with frustration part of him <UNK> to be in the twenty first century to hang out in <UNK> but he is raised on the western <UNK> among a <UNK> speaking community br br yet there is a deeper conflict within him he <UNK> to know the truth the truth behind his <UNK> ancient stories where does fiction end and he wants to know the truth behind the death of his parents br br he is pulled to make a last <UNK> journey to the <UNK> of one of <UNK> most <UNK> mountains can the truth be told or is it all in stories br br in this story about stories we <UNK> bloody battles <UNK> lovers the <UNK> of old and the sometimes more <UNK> <UNK> of accepted truth in doing so we each connect with <UNK> as he lives the story of his own life br br <UNK> the <UNK> <UNK> is probably the most honest <UNK> and genuinely beautiful film of scotland ever made like <UNK> i got slightly annoyed with the <UNK> of hanging stories on more stories but also like <UNK> i <UNK> this once i saw the <UNK> picture ' forget the box office <UNK> of braveheart and its like you might even <UNK> the <UNK> famous <UNK> of the wicker man to see a film that is true to scotland this one is probably unique if you maybe <UNK> on it deeply enough you might even re <UNK> the power of storytelling and the age old question of whether there are some truths that cannot be told but only experienced\n",
      "\n",
      "The 5th comment: <START> worst mistake of my life br br i picked this movie up at target for 5 because i figured hey it's sandler i can get some cheap laughs i was wrong completely wrong mid way through the film all three of my friends were asleep and i was still suffering worst plot worst script worst movie i have ever seen i wanted to hit my head up against a wall for an hour then i'd stop and you know why because it felt damn good upon bashing my head in i stuck that damn movie in the <UNK> and watched it burn and that felt better than anything else i've ever done it took american psycho army of darkness and kill bill just to get over that crap i hate you sandler for actually going through with this and ruining a whole day of my life\n",
      "\n"
     ]
    }
   ],
   "source": [
    "for i in range(5):\n",
    "    print('The {}th comment: '.format(i+1), end='')\n",
    "    print(decode_review(train_data[i]))\n",
    "    print()"
   ]
  },
  {
   "cell_type": "code",
   "execution_count": 5,
   "metadata": {},
   "outputs": [
    {
     "name": "stdout",
     "output_type": "stream",
     "text": [
      "Pad comment into fixed-length data\n"
     ]
    }
   ],
   "source": [
    "print('Pad comment into fixed-length data')\n",
    "train_data = tf.keras.preprocessing.sequence.pad_sequences(train_data,\n",
    "                                                        value=word_index[\"<PAD>\"],\n",
    "                                                        padding='post',\n",
    "                                                        maxlen=256)\n",
    "\n",
    "test_data = tf.keras.preprocessing.sequence.pad_sequences(test_data,\n",
    "                                                       value=word_index[\"<PAD>\"],\n",
    "                                                       padding='post',\n",
    "                                                       maxlen=256)\n"
   ]
  },
  {
   "cell_type": "code",
   "execution_count": 6,
   "metadata": {},
   "outputs": [
    {
     "name": "stdout",
     "output_type": "stream",
     "text": [
      "Prepare model\n",
      "Model: \"sequential\"\n",
      "_________________________________________________________________\n",
      "Layer (type)                 Output Shape              Param #   \n",
      "=================================================================\n",
      "embedding (Embedding)        (None, None, 16)          160000    \n",
      "_________________________________________________________________\n",
      "global_average_pooling1d (Gl (None, 16)                0         \n",
      "_________________________________________________________________\n",
      "dense (Dense)                (None, 16)                272       \n",
      "_________________________________________________________________\n",
      "dense_1 (Dense)              (None, 1)                 17        \n",
      "=================================================================\n",
      "Total params: 160,289\n",
      "Trainable params: 160,289\n",
      "Non-trainable params: 0\n",
      "_________________________________________________________________\n"
     ]
    }
   ],
   "source": [
    "print('Prepare model')\n",
    "vocab_size = 10000\n",
    "\n",
    "model = tf.keras.Sequential()\n",
    "model.add(tf.keras.layers.Embedding(vocab_size, 16))\n",
    "model.add(tf.keras.layers.GlobalAveragePooling1D())\n",
    "model.add(tf.keras.layers.Dense(16, activation='relu'))\n",
    "model.add(tf.keras.layers.Dense(1, activation='sigmoid'))\n",
    "\n",
    "model.summary()\n"
   ]
  },
  {
   "cell_type": "code",
   "execution_count": 7,
   "metadata": {},
   "outputs": [
    {
     "name": "stdout",
     "output_type": "stream",
     "text": [
      "Prepare training parameters\n"
     ]
    }
   ],
   "source": [
    "print('Prepare training parameters')\n",
    "model.compile(optimizer='adam',\n",
    "              loss='binary_crossentropy',\n",
    "              metrics=['accuracy'])\n"
   ]
  },
  {
   "cell_type": "code",
   "execution_count": 8,
   "metadata": {},
   "outputs": [
    {
     "name": "stdout",
     "output_type": "stream",
     "text": [
      "Split data into 2 parts to train and verify\n"
     ]
    }
   ],
   "source": [
    "print('Split data into 2 parts to train and verify')\n",
    "x_val = train_data[:10000]\n",
    "partial_x_train = train_data[10000:]\n",
    "y_val = train_labels[:10000]\n",
    "partial_y_train = train_labels[10000:]"
   ]
  },
  {
   "cell_type": "code",
   "execution_count": 9,
   "metadata": {},
   "outputs": [
    {
     "name": "stdout",
     "output_type": "stream",
     "text": [
      "Train the model\n",
      "Train on 15000 samples, validate on 10000 samples\n",
      "Epoch 1/40\n",
      "15000/15000 [==============================] - 8s 555us/sample - loss: 0.6920 - accuracy: 0.5743 - val_loss: 0.6903 - val_accuracy: 0.6883\n",
      "Epoch 2/40\n",
      "15000/15000 [==============================] - 4s 272us/sample - loss: 0.6874 - accuracy: 0.7158 - val_loss: 0.6841 - val_accuracy: 0.6980\n",
      "Epoch 3/40\n",
      "15000/15000 [==============================] - 5s 310us/sample - loss: 0.6779 - accuracy: 0.7351 - val_loss: 0.6718 - val_accuracy: 0.7454\n",
      "Epoch 4/40\n",
      "15000/15000 [==============================] - 4s 278us/sample - loss: 0.6602 - accuracy: 0.7653 - val_loss: 0.6510 - val_accuracy: 0.7649\n",
      "Epoch 5/40\n",
      "15000/15000 [==============================] - 4s 284us/sample - loss: 0.6322 - accuracy: 0.7877 - val_loss: 0.6207 - val_accuracy: 0.7653\n",
      "Epoch 6/40\n",
      "15000/15000 [==============================] - 4s 278us/sample - loss: 0.5956 - accuracy: 0.8047 - val_loss: 0.5838 - val_accuracy: 0.7936\n",
      "Epoch 7/40\n",
      "15000/15000 [==============================] - 4s 292us/sample - loss: 0.5531 - accuracy: 0.8195 - val_loss: 0.5443 - val_accuracy: 0.8134\n",
      "Epoch 8/40\n",
      "15000/15000 [==============================] - 4s 281us/sample - loss: 0.5082 - accuracy: 0.8393 - val_loss: 0.5033 - val_accuracy: 0.8251\n",
      "Epoch 9/40\n",
      "15000/15000 [==============================] - 4s 264us/sample - loss: 0.4644 - accuracy: 0.8543 - val_loss: 0.4666 - val_accuracy: 0.8327\n",
      "Epoch 10/40\n",
      "15000/15000 [==============================] - 4s 256us/sample - loss: 0.4248 - accuracy: 0.8664 - val_loss: 0.4332 - val_accuracy: 0.8459\n",
      "Epoch 11/40\n",
      "15000/15000 [==============================] - 4s 252us/sample - loss: 0.3899 - accuracy: 0.8752 - val_loss: 0.4058 - val_accuracy: 0.8523\n",
      "Epoch 12/40\n",
      "15000/15000 [==============================] - 4s 256us/sample - loss: 0.3605 - accuracy: 0.8817 - val_loss: 0.3832 - val_accuracy: 0.8599\n",
      "Epoch 13/40\n",
      "15000/15000 [==============================] - 6s 397us/sample - loss: 0.3357 - accuracy: 0.8896 - val_loss: 0.3650 - val_accuracy: 0.8655\n",
      "Epoch 14/40\n",
      "15000/15000 [==============================] - 4s 261us/sample - loss: 0.3137 - accuracy: 0.8949 - val_loss: 0.3502 - val_accuracy: 0.8690\n",
      "Epoch 15/40\n",
      "15000/15000 [==============================] - 4s 269us/sample - loss: 0.2951 - accuracy: 0.8995 - val_loss: 0.3380 - val_accuracy: 0.8716\n",
      "Epoch 16/40\n",
      "15000/15000 [==============================] - 4s 275us/sample - loss: 0.2788 - accuracy: 0.9052 - val_loss: 0.3278 - val_accuracy: 0.8742\n",
      "Epoch 17/40\n",
      "15000/15000 [==============================] - 4s 263us/sample - loss: 0.2644 - accuracy: 0.9101 - val_loss: 0.3193 - val_accuracy: 0.8755\n",
      "Epoch 18/40\n",
      "15000/15000 [==============================] - 4s 253us/sample - loss: 0.2511 - accuracy: 0.9130 - val_loss: 0.3129 - val_accuracy: 0.8756\n",
      "Epoch 19/40\n",
      "15000/15000 [==============================] - 4s 247us/sample - loss: 0.2392 - accuracy: 0.9167 - val_loss: 0.3076 - val_accuracy: 0.8772\n",
      "Epoch 20/40\n",
      "15000/15000 [==============================] - 4s 272us/sample - loss: 0.2282 - accuracy: 0.9224 - val_loss: 0.3016 - val_accuracy: 0.8804\n",
      "Epoch 21/40\n",
      "15000/15000 [==============================] - 4s 249us/sample - loss: 0.2182 - accuracy: 0.9246 - val_loss: 0.2975 - val_accuracy: 0.8817\n",
      "Epoch 22/40\n",
      "15000/15000 [==============================] - 4s 261us/sample - loss: 0.2089 - accuracy: 0.9292 - val_loss: 0.2941 - val_accuracy: 0.8827\n",
      "Epoch 23/40\n",
      "15000/15000 [==============================] - 4s 252us/sample - loss: 0.1997 - accuracy: 0.9333 - val_loss: 0.2918 - val_accuracy: 0.8831\n",
      "Epoch 24/40\n",
      "15000/15000 [==============================] - 4s 274us/sample - loss: 0.1921 - accuracy: 0.9359 - val_loss: 0.2893 - val_accuracy: 0.8835\n",
      "Epoch 25/40\n",
      "15000/15000 [==============================] - 4s 252us/sample - loss: 0.1842 - accuracy: 0.9393 - val_loss: 0.2874 - val_accuracy: 0.8849\n",
      "Epoch 26/40\n",
      "15000/15000 [==============================] - 4s 253us/sample - loss: 0.1767 - accuracy: 0.9430 - val_loss: 0.2864 - val_accuracy: 0.8847\n",
      "Epoch 27/40\n",
      "15000/15000 [==============================] - 4s 260us/sample - loss: 0.1706 - accuracy: 0.9451 - val_loss: 0.2855 - val_accuracy: 0.8856\n",
      "Epoch 28/40\n",
      "15000/15000 [==============================] - 4s 273us/sample - loss: 0.1634 - accuracy: 0.9484 - val_loss: 0.2855 - val_accuracy: 0.8849\n",
      "Epoch 29/40\n",
      "15000/15000 [==============================] - 4s 269us/sample - loss: 0.1574 - accuracy: 0.9509 - val_loss: 0.2854 - val_accuracy: 0.8857\n",
      "Epoch 30/40\n",
      "15000/15000 [==============================] - 4s 278us/sample - loss: 0.1514 - accuracy: 0.9533 - val_loss: 0.2853 - val_accuracy: 0.8857\n",
      "Epoch 31/40\n",
      "15000/15000 [==============================] - 4s 255us/sample - loss: 0.1459 - accuracy: 0.9553 - val_loss: 0.2865 - val_accuracy: 0.8850\n",
      "Epoch 32/40\n",
      "15000/15000 [==============================] - 4s 276us/sample - loss: 0.1406 - accuracy: 0.9575 - val_loss: 0.2876 - val_accuracy: 0.8853\n",
      "Epoch 33/40\n",
      "15000/15000 [==============================] - 4s 260us/sample - loss: 0.1355 - accuracy: 0.9599 - val_loss: 0.2876 - val_accuracy: 0.8862\n",
      "Epoch 34/40\n",
      "15000/15000 [==============================] - 4s 266us/sample - loss: 0.1306 - accuracy: 0.9621 - val_loss: 0.2893 - val_accuracy: 0.8855\n",
      "Epoch 35/40\n",
      "15000/15000 [==============================] - 4s 279us/sample - loss: 0.1259 - accuracy: 0.9631 - val_loss: 0.2914 - val_accuracy: 0.8845\n",
      "Epoch 36/40\n",
      "15000/15000 [==============================] - 4s 291us/sample - loss: 0.1218 - accuracy: 0.9657 - val_loss: 0.2918 - val_accuracy: 0.8862\n",
      "Epoch 37/40\n",
      "15000/15000 [==============================] - 5s 337us/sample - loss: 0.1175 - accuracy: 0.9673 - val_loss: 0.2936 - val_accuracy: 0.8860\n",
      "Epoch 38/40\n",
      "15000/15000 [==============================] - 4s 269us/sample - loss: 0.1136 - accuracy: 0.9683 - val_loss: 0.2958 - val_accuracy: 0.8858\n",
      "Epoch 39/40\n",
      "15000/15000 [==============================] - 4s 262us/sample - loss: 0.1094 - accuracy: 0.9701 - val_loss: 0.2995 - val_accuracy: 0.8843\n",
      "Epoch 40/40\n",
      "15000/15000 [==============================] - 4s 260us/sample - loss: 0.1059 - accuracy: 0.9715 - val_loss: 0.3015 - val_accuracy: 0.8829\n"
     ]
    }
   ],
   "source": [
    "print('Train the model')\n",
    "history = model.fit(partial_x_train,\n",
    "                    partial_y_train,\n",
    "                    epochs=40,\n",
    "                    batch_size=512,\n",
    "                    validation_data=(x_val, y_val),\n",
    "                    verbose=1)"
   ]
  },
  {
   "cell_type": "code",
   "execution_count": 10,
   "metadata": {},
   "outputs": [
    {
     "name": "stdout",
     "output_type": "stream",
     "text": [
      "Show history\n"
     ]
    },
    {
     "data": {
      "text/plain": [
       "<matplotlib.legend.Legend at 0x7f8c61bbb450>"
      ]
     },
     "execution_count": 10,
     "metadata": {},
     "output_type": "execute_result"
    },
    {
     "data": {
      "image/png": "[encoded data removed]",
      "text/plain": [
       "<Figure size 720x720 with 2 Axes>"
      ]
     },
     "metadata": {
      "needs_background": "light"
     },
     "output_type": "display_data"
    }
   ],
   "source": [
    "print('Show history')\n",
    "history_dict = history.history\n",
    "acc = history_dict['accuracy']\n",
    "val_acc = history_dict['val_accuracy']\n",
    "loss = history_dict['loss']\n",
    "val_loss = history_dict['val_loss']\n",
    "\n",
    "epochs = range(1, len(acc) + 1)\n",
    "\n",
    "plt.figure(figsize=(10,10))\n",
    "\n",
    "plt.subplot(211) # show loss history\n",
    "plt.plot(epochs, loss, 'bo', label='Training loss')\n",
    "plt.plot(epochs, val_loss, 'b', label='Validation loss')\n",
    "plt.title('Training and validation loss')\n",
    "plt.xlabel('Epochs')\n",
    "plt.ylabel('Loss')\n",
    "plt.legend()\n",
    "\n",
    "plt.subplot(212) # show accuracy history\n",
    "plt.plot(epochs, acc, 'bo', label='Training acc')\n",
    "plt.plot(epochs, val_acc, 'b', label='Validation acc')\n",
    "plt.title('Training and validation accuracy')\n",
    "plt.xlabel('Epochs')\n",
    "plt.ylabel('Accuracy')\n",
    "plt.legend()"
   ]
  },
  {
   "cell_type": "code",
   "execution_count": 11,
   "metadata": {},
   "outputs": [
    {
     "name": "stdout",
     "output_type": "stream",
     "text": [
      "Evaluate training result\n",
      "25000/1 - 2s - loss: 0.3334 - accuracy: 0.8732\n",
      "[0.3198085645389557, 0.87316]\n"
     ]
    }
   ],
   "source": [
    "print('Evaluate training result')\n",
    "results = model.evaluate(test_data,  test_labels, verbose=2)\n",
    "print(results)"
   ]
  },
  {
   "cell_type": "code",
   "execution_count": null,
   "metadata": {},
   "outputs": [],
   "source": []
  }
 ],
 "metadata": {
  "kernelspec": {
   "display_name": "Python 3",
   "language": "python",
   "name": "python3"
  },
  "language_info": {
   "codemirror_mode": {
    "name": "ipython",
    "version": 3
   },
   "file_extension": ".py",
   "mimetype": "text/x-python",
   "name": "python",
   "nbconvert_exporter": "python",
   "pygments_lexer": "ipython3",
   "version": "3.7.9"
  }
 },
 "nbformat": 4,
 "nbformat_minor": 4
}
