{
 "cells": [
  {
   "cell_type": "code",
   "execution_count": 1,
   "metadata": {},
   "outputs": [
    {
     "name": "stdout",
     "output_type": "stream",
     "text": [
      "Tensorflow version: 2.0.0\n",
      "Enable multiple instances of OpenMP on macOS\n"
     ]
    }
   ],
   "source": [
    "import tensorflow as tf\n",
    "tf.keras.backend.clear_session()\n",
    "print('Tensorflow version: %s' % str(tf.__version__))\n",
    "\n",
    "import sys\n",
    "import os\n",
    "if sys.platform.startswith('darwin'):\n",
    "    print('Enable multiple instances of OpenMP on macOS')\n",
    "    os.environ['KMP_DUPLICATE_LIB_OK']='True'\n",
    "    \n",
    "%matplotlib inline\n",
    "import matplotlib.pyplot as plt\n",
    "import numpy as np"
   ]
  },
  {
   "cell_type": "code",
   "execution_count": 2,
   "metadata": {},
   "outputs": [
    {
     "name": "stdout",
     "output_type": "stream",
     "text": [
      "Version:  2.0.0\n",
      "Eager mode:  True\n",
      "Hub version:  0.8.0\n",
      "GPU is NOT AVAILABLE\n"
     ]
    }
   ],
   "source": [
    "import tensorflow_hub as tfhub\n",
    "import tensorflow_datasets as tfds\n",
    "\n",
    "print(\"Version: \", tf.__version__)\n",
    "print(\"Eager mode: \", tf.executing_eagerly())\n",
    "print(\"Hub version: \", tfhub.__version__)\n",
    "print(\"GPU is\", \"available\" if tf.config.experimental.list_physical_devices(\"GPU\") else \"NOT AVAILABLE\")"
   ]
  },
  {
   "cell_type": "code",
   "execution_count": 3,
   "metadata": {},
   "outputs": [
    {
     "name": "stdout",
     "output_type": "stream",
     "text": [
      "Download data\n"
     ]
    }
   ],
   "source": [
    "print('Download data')\n",
    "train_data, validation_data, test_data = tfds.load(\n",
    "    name=\"imdb_reviews\",\n",
    "    split=[\n",
    "       tfds.Split.TRAIN.subsplit(tfds.percent[:60]),\n",
    "       tfds.Split.TRAIN.subsplit(tfds.percent[60:]),\n",
    "       tfds.Split.TEST\n",
    "    ],\n",
    "    as_supervised=True)\n",
    "train_examples_batch, train_labels_batch = next(iter(train_data.batch(10)))"
   ]
  },
  {
   "cell_type": "code",
   "execution_count": 4,
   "metadata": {},
   "outputs": [
    {
     "name": "stdout",
     "output_type": "stream",
     "text": [
      "Download embedding model from tensorflow hub\n"
     ]
    },
    {
     "data": {
      "text/plain": [
       "<tf.Tensor: id=403, shape=(3, 20), dtype=float32, numpy=\n",
       "array([[ 3.9819887 , -4.4838037 ,  5.177359  , -2.3643482 , -3.2938678 ,\n",
       "        -3.5364532 , -2.4786978 ,  2.5525482 ,  6.688532  , -2.3076782 ,\n",
       "        -1.9807833 ,  1.1315885 , -3.0339816 , -0.7604128 , -5.743445  ,\n",
       "         3.4242578 ,  4.790099  , -4.03061   , -5.992149  , -1.7297493 ],\n",
       "       [ 3.4232912 , -4.230874  ,  4.1488533 , -0.29553518, -6.802391  ,\n",
       "        -2.5163853 , -4.4002395 ,  1.905792  ,  4.7512794 , -0.40538004,\n",
       "        -4.3401685 ,  1.0361497 ,  0.9744097 ,  0.71507156, -6.2657013 ,\n",
       "         0.16533905,  4.560262  , -1.3106939 , -3.1121316 , -2.1338716 ],\n",
       "       [ 3.8508697 , -5.003031  ,  4.8700504 , -0.04324996, -5.893603  ,\n",
       "        -5.2983093 , -4.004676  ,  4.1236343 ,  6.267754  ,  0.11632943,\n",
       "        -3.5934832 ,  0.8023905 ,  0.56146765,  0.9192484 , -7.3066816 ,\n",
       "         2.8202746 ,  6.2000837 , -3.5709393 , -4.564525  , -2.305622  ]],\n",
       "      dtype=float32)>"
      ]
     },
     "execution_count": 4,
     "metadata": {},
     "output_type": "execute_result"
    }
   ],
   "source": [
    "print('Download embedding model from tensorflow hub')\n",
    "embedding = \"https://hub.tensorflow.google.cn/google/tf2-preview/gnews-swivel-20dim/1\"\n",
    "hub_layer = tfhub.KerasLayer(embedding, input_shape=[], \n",
    "                             dtype=tf.string, trainable=True)\n",
    "hub_layer(train_examples_batch[:3])"
   ]
  },
  {
   "cell_type": "code",
   "execution_count": 5,
   "metadata": {},
   "outputs": [
    {
     "name": "stdout",
     "output_type": "stream",
     "text": [
      "Prepare complete model\n",
      "Model: \"sequential\"\n",
      "_________________________________________________________________\n",
      "Layer (type)                 Output Shape              Param #   \n",
      "=================================================================\n",
      "keras_layer (KerasLayer)     (None, 20)                400020    \n",
      "_________________________________________________________________\n",
      "dense (Dense)                (None, 16)                336       \n",
      "_________________________________________________________________\n",
      "dense_1 (Dense)              (None, 1)                 17        \n",
      "=================================================================\n",
      "Total params: 400,373\n",
      "Trainable params: 400,373\n",
      "Non-trainable params: 0\n",
      "_________________________________________________________________\n"
     ]
    }
   ],
   "source": [
    "print('Prepare complete model')\n",
    "model = tf.keras.Sequential()\n",
    "model.add(hub_layer)\n",
    "model.add(tf.keras.layers.Dense(16, activation='relu'))\n",
    "model.add(tf.keras.layers.Dense(1))\n",
    "\n",
    "model.summary()"
   ]
  },
  {
   "cell_type": "code",
   "execution_count": 6,
   "metadata": {},
   "outputs": [
    {
     "name": "stdout",
     "output_type": "stream",
     "text": [
      "Train the model\n",
      "Epoch 1/20\n",
      "30/30 [==============================] - 22s 717ms/step - loss: 1.1067 - accuracy: 0.4527 - val_loss: 0.0000e+00 - val_accuracy: 0.0000e+00\n",
      "Epoch 2/20\n",
      "30/30 [==============================] - 21s 713ms/step - loss: 0.7704 - accuracy: 0.5123 - val_loss: 0.7097 - val_accuracy: 0.5333\n",
      "Epoch 3/20\n",
      "30/30 [==============================] - 20s 673ms/step - loss: 0.6789 - accuracy: 0.5812 - val_loss: 0.6350 - val_accuracy: 0.6289\n",
      "Epoch 4/20\n",
      "30/30 [==============================] - 19s 644ms/step - loss: 0.6117 - accuracy: 0.6542 - val_loss: 0.5950 - val_accuracy: 0.6693\n",
      "Epoch 5/20\n",
      "30/30 [==============================] - 21s 700ms/step - loss: 0.5743 - accuracy: 0.6834 - val_loss: 0.5626 - val_accuracy: 0.7015\n",
      "Epoch 6/20\n",
      "30/30 [==============================] - 18s 616ms/step - loss: 0.5408 - accuracy: 0.7143 - val_loss: 0.5310 - val_accuracy: 0.7166\n",
      "Epoch 7/20\n",
      "30/30 [==============================] - 18s 597ms/step - loss: 0.5044 - accuracy: 0.7428 - val_loss: 0.5005 - val_accuracy: 0.7446\n",
      "Epoch 8/20\n",
      "30/30 [==============================] - 20s 660ms/step - loss: 0.4685 - accuracy: 0.7672 - val_loss: 0.4716 - val_accuracy: 0.7686\n",
      "Epoch 9/20\n",
      "30/30 [==============================] - 19s 647ms/step - loss: 0.4389 - accuracy: 0.7941 - val_loss: 0.4452 - val_accuracy: 0.7769\n",
      "Epoch 10/20\n",
      "30/30 [==============================] - 18s 615ms/step - loss: 0.4074 - accuracy: 0.8121 - val_loss: 0.4212 - val_accuracy: 0.7922\n",
      "Epoch 11/20\n",
      "30/30 [==============================] - 19s 625ms/step - loss: 0.3776 - accuracy: 0.8302 - val_loss: 0.3997 - val_accuracy: 0.8033\n",
      "Epoch 12/20\n",
      "30/30 [==============================] - 19s 637ms/step - loss: 0.3496 - accuracy: 0.8452 - val_loss: 0.3813 - val_accuracy: 0.8142\n",
      "Epoch 13/20\n",
      "30/30 [==============================] - 25s 840ms/step - loss: 0.3257 - accuracy: 0.8585 - val_loss: 0.3648 - val_accuracy: 0.8353\n",
      "Epoch 14/20\n",
      "30/30 [==============================] - 20s 651ms/step - loss: 0.3044 - accuracy: 0.8719 - val_loss: 0.3509 - val_accuracy: 0.8320\n",
      "Epoch 15/20\n",
      "30/30 [==============================] - 22s 741ms/step - loss: 0.2844 - accuracy: 0.8821 - val_loss: 0.3387 - val_accuracy: 0.8459\n",
      "Epoch 16/20\n",
      "30/30 [==============================] - 22s 723ms/step - loss: 0.2644 - accuracy: 0.8939 - val_loss: 0.3281 - val_accuracy: 0.8514\n",
      "Epoch 17/20\n",
      "30/30 [==============================] - 20s 678ms/step - loss: 0.2500 - accuracy: 0.9015 - val_loss: 0.3200 - val_accuracy: 0.8571\n",
      "Epoch 18/20\n",
      "30/30 [==============================] - 20s 681ms/step - loss: 0.2344 - accuracy: 0.9082 - val_loss: 0.3158 - val_accuracy: 0.8632\n",
      "Epoch 19/20\n",
      "30/30 [==============================] - 22s 729ms/step - loss: 0.2209 - accuracy: 0.9184 - val_loss: 0.3076 - val_accuracy: 0.8597\n",
      "Epoch 20/20\n",
      "30/30 [==============================] - 18s 612ms/step - loss: 0.2043 - accuracy: 0.9239 - val_loss: 0.3031 - val_accuracy: 0.8624\n"
     ]
    }
   ],
   "source": [
    "print('Train the model')\n",
    "model.compile(optimizer='adam',\n",
    "              loss=tf.keras.losses.BinaryCrossentropy(from_logits=True),\n",
    "              metrics=['accuracy'])\n",
    "history = model.fit(train_data.shuffle(10000).batch(512),\n",
    "                    epochs=20,\n",
    "                    validation_data=validation_data.batch(512),\n",
    "                    verbose=1)"
   ]
  },
  {
   "cell_type": "code",
   "execution_count": 7,
   "metadata": {},
   "outputs": [
    {
     "name": "stdout",
     "output_type": "stream",
     "text": [
      "Evaluation model\n",
      "49/49 - 9s - loss: 0.3227 - accuracy: 0.8512\n",
      "loss: 0.323\n",
      "accuracy: 0.851\n"
     ]
    }
   ],
   "source": [
    "print('Evaluation model')\n",
    "results = model.evaluate(test_data.batch(512), verbose=2)\n",
    "for name, value in zip(model.metrics_names, results):\n",
    "    print(\"%s: %.3f\" % (name, value))"
   ]
  },
  {
   "cell_type": "code",
   "execution_count": 8,
   "metadata": {},
   "outputs": [
    {
     "name": "stdout",
     "output_type": "stream",
     "text": [
      "Show history\n"
     ]
    },
    {
     "data": {
      "text/plain": [
       "<matplotlib.legend.Legend at 0x7ff512401fd0>"
      ]
     },
     "execution_count": 8,
     "metadata": {},
     "output_type": "execute_result"
    },
    {
     "data": {
      "image/png": "[encoded data removed]",
      "text/plain": [
       "<Figure size 720x720 with 2 Axes>"
      ]
     },
     "metadata": {
      "needs_background": "light"
     },
     "output_type": "display_data"
    }
   ],
   "source": [
    "print('Show history')\n",
    "history_dict = history.history\n",
    "acc = history_dict['accuracy']\n",
    "val_acc = history_dict['val_accuracy']\n",
    "loss = history_dict['loss']\n",
    "val_loss = history_dict['val_loss']\n",
    "\n",
    "epochs = range(1, len(acc) + 1)\n",
    "\n",
    "plt.figure(figsize=(10,10))\n",
    "\n",
    "plt.subplot(211) # show loss history\n",
    "plt.plot(epochs, loss, 'bo', label='Training loss')\n",
    "plt.plot(epochs, val_loss, 'b', label='Validation loss')\n",
    "plt.title('Training and validation loss')\n",
    "plt.xlabel('Epochs')\n",
    "plt.ylabel('Loss')\n",
    "plt.legend()\n",
    "\n",
    "plt.subplot(212) # show accuracy history\n",
    "plt.plot(epochs, acc, 'bo', label='Training acc')\n",
    "plt.plot(epochs, val_acc, 'b', label='Validation acc')\n",
    "plt.title('Training and validation accuracy')\n",
    "plt.xlabel('Epochs')\n",
    "plt.ylabel('Accuracy')\n",
    "plt.legend()"
   ]
  }
 ],
 "metadata": {
  "kernelspec": {
   "display_name": "Python 3",
   "language": "python",
   "name": "python3"
  },
  "language_info": {
   "codemirror_mode": {
    "name": "ipython",
    "version": 3
   },
   "file_extension": ".py",
   "mimetype": "text/x-python",
   "name": "python",
   "nbconvert_exporter": "python",
   "pygments_lexer": "ipython3",
   "version": "3.7.9"
  }
 },
 "nbformat": 4,
 "nbformat_minor": 4
}
