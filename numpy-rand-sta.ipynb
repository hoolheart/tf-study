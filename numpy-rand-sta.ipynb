{
 "cells": [
  {
   "cell_type": "code",
   "execution_count": 1,
   "metadata": {},
   "outputs": [
    {
     "name": "stdout",
     "output_type": "stream",
     "text": [
      "Test of numpy random and statistics functions\n",
      "Version of numpy: 1.17.2\n"
     ]
    }
   ],
   "source": [
    "import numpy as np\n",
    "print('Test of numpy random and statistics functions')\n",
    "print('Version of numpy: %s' % str(np.__version__))"
   ]
  },
  {
   "cell_type": "code",
   "execution_count": 2,
   "metadata": {},
   "outputs": [
    {
     "name": "stdout",
     "output_type": "stream",
     "text": [
      "Use current second from UTC as random seed\n"
     ]
    }
   ],
   "source": [
    "import time\n",
    "print('Use current second from UTC as random seed')\n",
    "np.random.seed(int(time.mktime(time.gmtime()))%10000)"
   ]
  },
  {
   "cell_type": "code",
   "execution_count": 3,
   "metadata": {},
   "outputs": [
    {
     "name": "stdout",
     "output_type": "stream",
     "text": [
      "Generate uniform random array\n",
      "[[0.2583185  0.4095276  0.31348493]\n",
      " [0.81731188 0.37391765 0.68937529]]\n",
      "Generate normal random array\n",
      "[[ 0.17655697 -1.03038005 -0.07547387]\n",
      " [ 1.91960702 -1.07922963 -0.65394993]]\n"
     ]
    }
   ],
   "source": [
    "print('Generate uniform random array')\n",
    "print(np.random.rand(2,3))\n",
    "print('Generate normal random array')\n",
    "print(np.random.randn(2,3))"
   ]
  },
  {
   "cell_type": "code",
   "execution_count": 4,
   "metadata": {},
   "outputs": [
    {
     "name": "stdout",
     "output_type": "stream",
     "text": [
      "Generate integer random array between 0 and 100\n",
      "[[138 102 141]\n",
      " [114 184 146]]\n"
     ]
    }
   ],
   "source": [
    "print('Generate integer random array between 0 and 100')\n",
    "print(np.random.randint(100,200,(2,3)))"
   ]
  },
  {
   "cell_type": "code",
   "execution_count": 5,
   "metadata": {},
   "outputs": [
    {
     "name": "stdout",
     "output_type": "stream",
     "text": [
      "Original array\n",
      "[[150 100]\n",
      " [106 161]\n",
      " [108 110]\n",
      " [137 128]\n",
      " [183 145]]\n",
      "After shuffle\n",
      "[[150 100]\n",
      " [106 161]\n",
      " [137 128]\n",
      " [183 145]\n",
      " [108 110]]\n",
      "Use permutation to get\n",
      "[[183 145]\n",
      " [108 110]\n",
      " [137 128]\n",
      " [150 100]\n",
      " [106 161]]\n",
      "permutation doesn't change original array, it remains\n",
      "[[150 100]\n",
      " [106 161]\n",
      " [137 128]\n",
      " [183 145]\n",
      " [108 110]]\n"
     ]
    }
   ],
   "source": [
    "org = np.random.randint(100,200,(5,2))\n",
    "print('Original array')\n",
    "print(org)\n",
    "np.random.shuffle(org)\n",
    "print('After shuffle')\n",
    "print(org)\n",
    "print('Use permutation to get')\n",
    "print(np.random.permutation(org))\n",
    "print('permutation doesn\\'t change original array, it remains')\n",
    "print(org)"
   ]
  },
  {
   "cell_type": "code",
   "execution_count": 6,
   "metadata": {},
   "outputs": [
    {
     "name": "stdout",
     "output_type": "stream",
     "text": [
      "Extract randomly a new array from original one\n",
      "[[128 183]\n",
      " [145 108]\n",
      " [106 106]]\n"
     ]
    }
   ],
   "source": [
    "print('Extract randomly a new array from original one')\n",
    "print(np.random.choice(org.flatten(), (3,2)))"
   ]
  },
  {
   "cell_type": "code",
   "execution_count": 7,
   "metadata": {},
   "outputs": [
    {
     "name": "stdout",
     "output_type": "stream",
     "text": [
      "Uniform distribution\n",
      "[[1.99995044 4.59955774 9.89019094 3.23431143 2.96626551 2.33868664\n",
      "  7.60928474]\n",
      " [6.20126601 2.61489647 2.25328429 5.50323363 7.68320822 1.06129866\n",
      "  8.78739608]]\n",
      "Normal distribution\n",
      "[[7.52187096 5.52567999 4.80394098 3.02352536 6.15108207 9.52608488\n",
      "  4.13008368]\n",
      " [5.31167719 4.45773183 6.61968623 3.32589668 3.70347024 3.64640286\n",
      "  5.97761294]]\n",
      "Poisson distribution\n",
      "[[ 6  5  4 12 12 13 11]\n",
      " [ 8  6  8  8  9 10  7]]\n"
     ]
    }
   ],
   "source": [
    "print('Uniform distribution')\n",
    "print(np.random.uniform(0.0, 10.0, (2,7)))\n",
    "print('Normal distribution')\n",
    "print(np.random.normal(5.0, 2.0, (2,7)))\n",
    "print('Poisson distribution')\n",
    "print(np.random.poisson(7, (2,7)))"
   ]
  },
  {
   "cell_type": "code",
   "execution_count": 8,
   "metadata": {},
   "outputs": [
    {
     "name": "stdout",
     "output_type": "stream",
     "text": [
      "Generate statistics target\n",
      "[[63 96 88 83 86]\n",
      " [18 26 26  6 93]]\n",
      "sum: 585.000000\n",
      "average of each row: [83.2 33.8]\n",
      "weighted average of each column: [49.5 75.  69.4 59.9 88.1]\n",
      "standard difference: 33.693471\n",
      "variance: 1135.250000\n"
     ]
    }
   ],
   "source": [
    "a = np.random.randint(0,100,[2,5])\n",
    "print('Generate statistics target')\n",
    "print(a)\n",
    "print('sum: %f' % np.sum(a))\n",
    "print('average of each row: ', end='')\n",
    "print(np.mean(a, axis=1))\n",
    "print('weighted average of each column: ', end='')\n",
    "print(np.average(a, axis=0, weights=[0.7, 0.3]))\n",
    "print('standard difference: %f' % np.std(a))\n",
    "print('variance: %f' % np.var(a))"
   ]
  },
  {
   "cell_type": "code",
   "execution_count": 9,
   "metadata": {},
   "outputs": [
    {
     "name": "stdout",
     "output_type": "stream",
     "text": [
      "minimum value: 6 at (1, 3)\n",
      "maximum value: 96 at (0, 1)\n"
     ]
    }
   ],
   "source": [
    "print('minimum value: %d at %s' % (np.min(a), np.unravel_index(np.argmin(a), a.shape)))\n",
    "print('maximum value: %d at %s' % (np.max(a), np.unravel_index(np.argmax(a), a.shape)))"
   ]
  },
  {
   "cell_type": "code",
   "execution_count": 10,
   "metadata": {},
   "outputs": [
    {
     "name": "stdout",
     "output_type": "stream",
     "text": [
      "peek to peek: 90.000000\n",
      "median: 73\n"
     ]
    }
   ],
   "source": [
    "print('peek to peek: %f' % np.ptp(a))\n",
    "print('median: %d' % np.median(a))"
   ]
  },
  {
   "cell_type": "code",
   "execution_count": 11,
   "metadata": {},
   "outputs": [
    {
     "name": "stdout",
     "output_type": "stream",
     "text": [
      "Generate a 5*5 array to calculate gradient\n",
      "[[73.72519089 15.18913144 89.98425279 99.50110476 16.02607833]\n",
      " [65.9358858  28.96690248 13.84960524 69.07416444 27.39102432]\n",
      " [41.0587692  75.83741047 80.71487637 15.68610537 26.94792873]\n",
      " [75.06742133 40.01449258 39.30167731 51.06435956 70.38424285]\n",
      " [79.20364895 17.99303097 81.331496   61.99572613  4.68704134]]\n",
      "row gradient\n",
      "[[ -7.78930509  13.77777103 -76.13464755 -30.42694032  11.36494599]\n",
      " [-16.33321084  30.32413951  -4.63468821 -41.9074997    5.4609252 ]\n",
      " [  4.56576776   5.52379505  12.72603603  -9.00490244  21.49660927]\n",
      " [ 19.07243987 -28.92218975   0.30830981  23.15481038 -11.13044369]\n",
      " [  4.13622763 -22.02146161  42.02981869  10.93136657 -65.69720151]]\n",
      "column gradient\n",
      "[[-58.53605945   8.12953095  42.15598666 -36.97908723 -83.47502643]\n",
      " [-36.96898332 -26.04314028  20.05363098   6.77070954 -41.68314012]\n",
      " [ 34.77864127  19.82805358 -30.07565255 -26.88347382  11.26182336]\n",
      " [-35.05292875 -17.88287201   5.52493349  15.54128277  19.31988329]\n",
      " [-61.21061799   1.06392352  22.00134758 -38.32222733 -57.30868479]]\n"
     ]
    }
   ],
   "source": [
    "print('Generate a 5*5 array to calculate gradient')\n",
    "b = np.random.rand(5,5) * 100\n",
    "print(b)\n",
    "grad_x, grad_y = np.gradient(b)\n",
    "print('row gradient')\n",
    "print(grad_x)\n",
    "print('column gradient')\n",
    "print(grad_y)"
   ]
  },
  {
   "cell_type": "code",
   "execution_count": null,
   "metadata": {},
   "outputs": [],
   "source": []
  }
 ],
 "metadata": {
  "kernelspec": {
   "display_name": "Python 3",
   "language": "python",
   "name": "python3"
  },
  "language_info": {
   "codemirror_mode": {
    "name": "ipython",
    "version": 3
   },
   "file_extension": ".py",
   "mimetype": "text/x-python",
   "name": "python",
   "nbconvert_exporter": "python",
   "pygments_lexer": "ipython3",
   "version": "3.6.9"
  }
 },
 "nbformat": 4,
 "nbformat_minor": 4
}
