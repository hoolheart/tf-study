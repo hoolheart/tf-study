{
 "cells": [
  {
   "cell_type": "code",
   "execution_count": 1,
   "metadata": {},
   "outputs": [
    {
     "name": "stdout",
     "output_type": "stream",
     "text": [
      "Test of basic functionalities of numpy\n",
      "Numpy version: 1.17.2\n"
     ]
    }
   ],
   "source": [
    "# test of numpy basic functionalities\n",
    "import numpy as np\n",
    "print('Test of basic functionalities of numpy')\n",
    "print('Numpy version: %s' % str(np.__version__))"
   ]
  },
  {
   "cell_type": "code",
   "execution_count": 2,
   "metadata": {},
   "outputs": [],
   "source": [
    "# display numpy array info\n",
    "def displayNparrayInfo(na):\n",
    "    if type(na) is not type(np.array([])):\n",
    "        print('The input is not a numpy array')\n",
    "        return\n",
    "    print('Dimemsion: ', end='') # dimension\n",
    "    print(na.ndim)\n",
    "    print('Shape: ', end='') # shape\n",
    "    print(na.shape)\n",
    "    print('Size of data: ', end='') # size\n",
    "    print(na.size)\n",
    "    print('Type of data: ', end='') # data type\n",
    "    print(na.dtype)\n",
    "    print('Size of single data in byte: ', end='') # item size\n",
    "    print(na.itemsize)"
   ]
  },
  {
   "cell_type": "code",
   "execution_count": 3,
   "metadata": {},
   "outputs": [
    {
     "name": "stdout",
     "output_type": "stream",
     "text": [
      "Generate numpy array by using normal array\n",
      "Dimemsion: 2\n",
      "Shape: (2, 3)\n",
      "Size of data: 6\n",
      "Type of data: int64\n",
      "Size of single data in byte: 8\n",
      "Dimemsion: 2\n",
      "Shape: (2, 4)\n",
      "Size of data: 8\n",
      "Type of data: float64\n",
      "Size of single data in byte: 8\n"
     ]
    }
   ],
   "source": [
    "# generate by normal array\n",
    "print('Generate numpy array by using normal array')\n",
    "normal_int = np.array([[3,3,7],[8,9,6]])\n",
    "displayNparrayInfo(normal_int)\n",
    "normal_float = np.array([[6.7,7.7,8.1,9.2],[2.3,4.3,2.1,10.7]])\n",
    "displayNparrayInfo(normal_float)"
   ]
  },
  {
   "cell_type": "code",
   "execution_count": 4,
   "metadata": {},
   "outputs": [
    {
     "name": "stdout",
     "output_type": "stream",
     "text": [
      "Specify data type\n",
      "Dimemsion: 2\n",
      "Shape: (2, 3)\n",
      "Size of data: 6\n",
      "Type of data: int32\n",
      "Size of single data in byte: 4\n"
     ]
    }
   ],
   "source": [
    "# specify type\n",
    "print('Specify data type')\n",
    "spec_int32 = np.array([[3,3,7],[8,9,6]], dtype='int32')\n",
    "displayNparrayInfo(spec_int32)"
   ]
  },
  {
   "cell_type": "code",
   "execution_count": 5,
   "metadata": {},
   "outputs": [
    {
     "name": "stdout",
     "output_type": "stream",
     "text": [
      "sequence\n",
      "[0.         3.14159265 6.28318531 9.42477796]\n",
      "one array\n",
      "[[[1. 1.]\n",
      "  [1. 1.]\n",
      "  [1. 1.]]\n",
      "\n",
      " [[1. 1.]\n",
      "  [1. 1.]\n",
      "  [1. 1.]]]\n",
      "zero array\n",
      "[[0. 0. 0.]\n",
      " [0. 0. 0.]\n",
      " [0. 0. 0.]\n",
      " [0. 0. 0.]]\n",
      "unity matrix\n",
      "[[1. 0. 0. 0. 0. 0. 0.]\n",
      " [0. 1. 0. 0. 0. 0. 0.]\n",
      " [0. 0. 1. 0. 0. 0. 0.]\n",
      " [0. 0. 0. 1. 0. 0. 0.]\n",
      " [0. 0. 0. 0. 1. 0. 0.]\n",
      " [0. 0. 0. 0. 0. 1. 0.]\n",
      " [0. 0. 0. 0. 0. 0. 1.]]\n",
      "fill array\n",
      "[[7.5 7.5]\n",
      " [7.5 7.5]\n",
      " [7.5 7.5]]\n"
     ]
    }
   ],
   "source": [
    "# specific generation\n",
    "print('sequence')\n",
    "print(np.arange(0.0,10.0,np.pi))\n",
    "\n",
    "print('one array')\n",
    "print(np.ones([2,3,2]))\n",
    "\n",
    "print('zero array')\n",
    "print(np.zeros([4,3]))\n",
    "\n",
    "print('unity matrix')\n",
    "print(np.eye(7))\n",
    "\n",
    "print('fill array')\n",
    "print(np.full([3,2], 7.5))"
   ]
  },
  {
   "cell_type": "code",
   "execution_count": 6,
   "metadata": {},
   "outputs": [
    {
     "name": "stdout",
     "output_type": "stream",
     "text": [
      "ones with normal int array shape\n",
      "[[1 1 1]\n",
      " [1 1 1]]\n",
      "zeros with normal float array shape\n",
      "[[0. 0. 0. 0.]\n",
      " [0. 0. 0. 0.]]\n",
      "fill with specific type array shape\n",
      "[[7 7 7]\n",
      " [7 7 7]]\n"
     ]
    }
   ],
   "source": [
    "# copy shape\n",
    "print('ones with normal int array shape')\n",
    "print(np.ones_like(normal_int))\n",
    "print('zeros with normal float array shape')\n",
    "print(np.zeros_like(normal_float))\n",
    "print('fill with specific type array shape')\n",
    "print(np.full_like(spec_int32, 7))"
   ]
  },
  {
   "cell_type": "code",
   "execution_count": 7,
   "metadata": {},
   "outputs": [
    {
     "name": "stdout",
     "output_type": "stream",
     "text": [
      "generate linear space between 0 and 10 with size 4\n",
      "[ 1.  4.  7. 10.]\n",
      "same space without end\n",
      "[1.   3.25 5.5  7.75]\n",
      "combine two spaces\n",
      "[ 1.    4.    7.   10.    1.    3.25  5.5   7.75]\n",
      "combine two arrays with different shapes\n",
      "failed, can't combine arrays with different shape\n"
     ]
    }
   ],
   "source": [
    "# linear space and array combination\n",
    "print('generate linear space between 0 and 10 with size 4')\n",
    "ls0 = np.linspace(1.0, 10.0, 4)\n",
    "print(ls0)\n",
    "print('same space without end')\n",
    "ls1 = np.linspace(1.0, 10.0, 4, endpoint=False)\n",
    "print(ls1)\n",
    "print('combine two spaces')\n",
    "print(np.concatenate((ls0, ls1)))\n",
    "print('combine two arrays with different shapes')\n",
    "try:\n",
    "    print(np.concatenate((normal_float, ls0)))\n",
    "except:\n",
    "    print('failed, can\\'t combine arrays with different shape')"
   ]
  },
  {
   "cell_type": "code",
   "execution_count": 8,
   "metadata": {},
   "outputs": [
    {
     "name": "stdout",
     "output_type": "stream",
     "text": [
      "array transformations\n",
      "original array\n",
      "[[[1. 1.]\n",
      "  [1. 1.]\n",
      "  [1. 1.]]\n",
      "\n",
      " [[1. 1.]\n",
      "  [1. 1.]\n",
      "  [1. 1.]]]\n",
      "result of reshape\n",
      "[[1. 1. 1. 1.]\n",
      " [1. 1. 1. 1.]\n",
      " [1. 1. 1. 1.]]\n",
      "original remains\n",
      "[[[1. 1.]\n",
      "  [1. 1.]\n",
      "  [1. 1.]]\n",
      "\n",
      " [[1. 1.]\n",
      "  [1. 1.]\n",
      "  [1. 1.]]]\n",
      "after resize, the original changes to\n",
      "[[1. 1. 1. 1.]\n",
      " [1. 1. 1. 1.]\n",
      " [1. 1. 1. 1.]]\n",
      "result of flatten\n",
      "[1. 1. 1. 1. 1. 1. 1. 1. 1. 1. 1. 1.]\n",
      "original remains\n",
      "[[1. 1. 1. 1.]\n",
      " [1. 1. 1. 1.]\n",
      " [1. 1. 1. 1.]]\n",
      "result of new type array\n",
      "[[1 1 1 1]\n",
      " [1 1 1 1]\n",
      " [1 1 1 1]]\n",
      "original remains\n",
      "[[1. 1. 1. 1.]\n",
      " [1. 1. 1. 1.]\n",
      " [1. 1. 1. 1.]]\n",
      "get corresponding python list of numpy array\n",
      "[[1.0, 1.0, 1.0, 1.0], [1.0, 1.0, 1.0, 1.0], [1.0, 1.0, 1.0, 1.0]]\n"
     ]
    }
   ],
   "source": [
    "# test of array transformation\n",
    "print('array transformations')\n",
    "org = np.ones([2,3,2])\n",
    "print('original array')\n",
    "print(org)\n",
    "print('result of reshape')\n",
    "print(org.reshape([3,4]))\n",
    "print('original remains')\n",
    "print(org)\n",
    "org.resize([3,4])\n",
    "print('after resize, the original changes to')\n",
    "print(org)\n",
    "print('result of flatten')\n",
    "print(org.flatten())\n",
    "print('original remains')\n",
    "print(org)\n",
    "print('result of new type array')\n",
    "print(org.astype(np.int32))\n",
    "print('original remains')\n",
    "print(org)\n",
    "print('get corresponding python list of numpy array')\n",
    "print(org.tolist())"
   ]
  },
  {
   "cell_type": "code",
   "execution_count": null,
   "metadata": {},
   "outputs": [],
   "source": []
  }
 ],
 "metadata": {
  "kernelspec": {
   "display_name": "Python 3",
   "language": "python",
   "name": "python3"
  },
  "language_info": {
   "codemirror_mode": {
    "name": "ipython",
    "version": 3
   },
   "file_extension": ".py",
   "mimetype": "text/x-python",
   "name": "python",
   "nbconvert_exporter": "python",
   "pygments_lexer": "ipython3",
   "version": "3.7.7"
  }
 },
 "nbformat": 4,
 "nbformat_minor": 4
}
