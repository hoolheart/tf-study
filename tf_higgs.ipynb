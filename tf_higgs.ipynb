{
 "cells": [
  {
   "cell_type": "code",
   "execution_count": null,
   "metadata": {},
   "outputs": [],
   "source": [
    "import tensorflow as tf\n",
    "import tensorflow_docs as tfdocs\n",
    "tf.keras.backend.clear_session()\n",
    "print('Tensorflow version: %s' % str(tf.__version__))\n",
    "\n",
    "import sys\n",
    "import os\n",
    "if sys.platform.startswith('darwin'):\n",
    "    print('Enable multiple instances of OpenMP on macOS')\n",
    "    os.environ['KMP_DUPLICATE_LIB_OK']='True'\n",
    "\n",
    "%matplotlib inline\n",
    "import matplotlib.pyplot as plt\n",
    "import seaborn as sns\n",
    "\n",
    "import numpy as np\n",
    "import pandas as pd\n",
    "import pathlib\n",
    "import shutil"
   ]
  },
  {
   "cell_type": "code",
   "execution_count": null,
   "metadata": {},
   "outputs": [],
   "source": [
    "print('Prepare tensor board log path')\n",
    "if 'logs' not in os.listdir():\n",
    "    os.mkdir('logs')\n",
    "logdir = pathlib.Path(os.getcwd() + '/logs')/\"tensorboard_logs\"\n",
    "shutil.rmtree(logdir, ignore_errors=True)"
   ]
  },
  {
   "cell_type": "code",
   "execution_count": null,
   "metadata": {},
   "outputs": [],
   "source": [
    "print('Download data file')\n",
    "gz = tf.keras.utils.get_file('HIGGS.csv.gz', 'http://mlphysics.ics.uci.edu/data/higgs/HIGGS.csv.gz')"
   ]
  },
  {
   "cell_type": "code",
   "execution_count": null,
   "metadata": {},
   "outputs": [],
   "source": [
    "print('Load data')\n",
    "\n",
    "def pack_row(*row):\n",
    "    label = row[0]\n",
    "    features = tf.stack(row[1:],1)\n",
    "    return features, label\n",
    "\n",
    "FEATURE_CNT = 28\n",
    "ds = tf.data.experimental.CsvDataset(gz,[float(),]*(FEATURE_CNT+1), compression_type=\"GZIP\")\n",
    "packed_ds = ds.batch(10000).map(pack_row).unbatch()\n",
    "packed_ds"
   ]
  },
  {
   "cell_type": "code",
   "execution_count": null,
   "metadata": {},
   "outputs": [],
   "source": [
    "print('Visualize data')\n",
    "for features,label in packed_ds.batch(1000).take(1):\n",
    "    print(features[0])\n",
    "    plt.hist(features.numpy().flatten(), bins = 101)"
   ]
  },
  {
   "cell_type": "code",
   "execution_count": null,
   "metadata": {},
   "outputs": [],
   "source": [
    "print('Split and batch data')\n",
    "\n",
    "N_VALIDATION = int(1e3)\n",
    "N_TRAIN = int(1e4)\n",
    "BUFFER_SIZE = int(1e4)\n",
    "BATCH_SIZE = 500\n",
    "STEPS_PER_EPOCH = N_TRAIN//BATCH_SIZE\n",
    "\n",
    "validate_ds = packed_ds.take(N_VALIDATION).cache()\n",
    "train_ds = packed_ds.skip(N_VALIDATION).take(N_TRAIN).cache()\n",
    "\n",
    "validate_ds = validate_ds.batch(BATCH_SIZE)\n",
    "train_ds = train_ds.shuffle(BUFFER_SIZE).repeat().batch(BATCH_SIZE)\n",
    "\n",
    "train_ds"
   ]
  },
  {
   "cell_type": "code",
   "execution_count": null,
   "metadata": {},
   "outputs": [],
   "source": [
    "print('Prepare functions to train model')\n",
    "\n",
    "lr_schedule = tf.keras.optimizers.schedules.InverseTimeDecay(\n",
    "  0.001,\n",
    "  decay_steps=STEPS_PER_EPOCH*1000,\n",
    "  decay_rate=1,\n",
    "  staircase=False) # schedule to reduce learning rate\n",
    "\n",
    "def get_optimizer(): # optimization creation according to learning rate schedule\n",
    "    return tf.keras.optimizers.Adam(lr_schedule)\n",
    "\n",
    "class PrintDot(tf.keras.callbacks.Callback):\n",
    "    def on_epoch_end(self, epoch, logs):\n",
    "        if epoch % 100 == 0: \n",
    "            print('')\n",
    "        print('.', end='')\n",
    "\n",
    "if 'cp' not in os.listdir():\n",
    "    os.mkdir('cp') # prepare check point folder\n",
    "        \n",
    "def get_callbacks(name): # generate call back function list\n",
    "    cp_dir = 'cp/' + name.split('/')[-1]\n",
    "    cp_path = cp_dir + '/cp-{epoch:04d}.ckpt'\n",
    "    if cp_dir not in os.listdir():\n",
    "        os.mkdir(cp_dir)\n",
    "    return [\n",
    "        PrintDot(), # print dots during training\n",
    "        tf.keras.callbacks.EarlyStopping(monitor='val_binary_crossentropy', patience=200), # early stop threshold\n",
    "        tf.keras.callbacks.TensorBoard(logdir/name), # output log\n",
    "        tf.keras.callbacks.ModelCheckpoint(filepath=cp_path, verbose=0, \n",
    "                                           save_weights_only=True, period=100) # checkpoint\n",
    "    ]\n",
    "\n",
    "def compile_and_fit(model, name, optimizer=None, max_epochs=10000): # compile and fit model\n",
    "    if optimizer is None:\n",
    "        optimizer = get_optimizer() # prepare optimizer\n",
    "    model.compile(optimizer=optimizer,\n",
    "                  loss=tf.keras.losses.BinaryCrossentropy(from_logits=True),\n",
    "                  metrics=[tf.keras.losses.BinaryCrossentropy(from_logits=True, name='binary_crossentropy'),\n",
    "                           'accuracy']) # compile model\n",
    "    model.summary()\n",
    "    history = model.fit(\n",
    "        train_ds,\n",
    "        steps_per_epoch = STEPS_PER_EPOCH,\n",
    "        epochs=max_epochs,\n",
    "        validation_data=validate_ds,\n",
    "        callbacks=get_callbacks(name),\n",
    "        verbose=0) # train model\n",
    "    return history"
   ]
  },
  {
   "cell_type": "code",
   "execution_count": null,
   "metadata": {},
   "outputs": [],
   "source": [
    "print('Prepare models to demonstrate overfitting')\n",
    "\n",
    "models = [\n",
    "    ('tiny', tf.keras.Sequential([\n",
    "        tf.keras.layers.Dense(16, activation='elu', input_shape=(FEATURE_CNT,)),\n",
    "        tf.keras.layers.Dense(1)\n",
    "    ])),\n",
    "    ('small', tf.keras.Sequential([\n",
    "        tf.keras.layers.Dense(16, activation='elu', input_shape=(FEATURE_CNT,)),\n",
    "        tf.keras.layers.Dense(16),\n",
    "        tf.keras.layers.Dense(1)\n",
    "    ])),\n",
    "    ('medium', tf.keras.Sequential([\n",
    "        tf.keras.layers.Dense(16, activation='elu', input_shape=(FEATURE_CNT,)),\n",
    "        tf.keras.layers.Dense(16),\n",
    "        tf.keras.layers.Dense(16),\n",
    "        tf.keras.layers.Dense(1)\n",
    "    ])),\n",
    "    ('large', tf.keras.Sequential([\n",
    "        tf.keras.layers.Dense(512, activation='elu', input_shape=(FEATURE_CNT,)),\n",
    "        tf.keras.layers.Dense(512),\n",
    "        tf.keras.layers.Dense(512),\n",
    "        tf.keras.layers.Dense(512),\n",
    "        tf.keras.layers.Dense(1)\n",
    "    ]))\n",
    "]"
   ]
  },
  {
   "cell_type": "code",
   "execution_count": null,
   "metadata": {},
   "outputs": [],
   "source": [
    "print('Train different scale models')\n",
    "\n",
    "save_path = 'saved_model' # prepare path to save model\n",
    "if save_path not in os.listdir():\n",
    "    os.mkdir(save_path)\n",
    "\n",
    "size_histories = {}\n",
    "for name, model in models:\n",
    "    print('Train ', name, ' model...')\n",
    "    size_histories[name] = compile_and_fit(model, 'sizes/'+name)\n",
    "    model.save(save_path + '/' + name) # save model into a folder\n",
    "    model.save(save_paht + '/' + name + '.h5') # save model into a hdf5 file"
   ]
  },
  {
   "cell_type": "code",
   "execution_count": null,
   "metadata": {},
   "outputs": [],
   "source": [
    "print('Demonstrate histories')\n",
    "plotter = tfdocs.plots.HistoryPlotter(metric = 'binary_crossentropy', smoothing_std=10)\n",
    "plotter.plot(size_histories)\n",
    "a = plt.xscale('log')\n",
    "plt.xlim([5, max(plt.xlim())])\n",
    "plt.ylim([0.5, 0.7])\n",
    "plt.xlabel('Epochs [Log Scale]'')\n",
    "plt.ylabel('Binary Crossentropy')"
   ]
  },
  {
   "cell_type": "code",
   "execution_count": null,
   "metadata": {},
   "outputs": [],
   "source": [
    "# Load the TensorBoard notebook extension\n",
    "%load_ext tensorboard\n",
    "\n",
    "# Open an embedded TensorBoard viewer\n",
    "%tensorboard --logdir {logdir}/sizes"
   ]
  },
  {
   "cell_type": "code",
   "execution_count": null,
   "metadata": {},
   "outputs": [],
   "source": [
    "print('Try load model from saving')\n",
    "print()\n",
    "\n",
    "print('Original')\n",
    "org_name, org_model = models[0]\n",
    "org_model.summary()\n"
   ]
  }
 ],
 "metadata": {
  "kernelspec": {
   "display_name": "Python 3",
   "language": "python",
   "name": "python3"
  },
  "language_info": {
   "codemirror_mode": {
    "name": "ipython",
    "version": 3
   },
   "file_extension": ".py",
   "mimetype": "text/x-python",
   "name": "python",
   "nbconvert_exporter": "python",
   "pygments_lexer": "ipython3",
   "version": "3.7.9"
  }
 },
 "nbformat": 4,
 "nbformat_minor": 4
}
